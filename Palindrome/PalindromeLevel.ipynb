{
 "cells": [
  {
   "cell_type": "code",
   "execution_count": 14,
   "id": "b0c024fc-123e-496f-bcfb-768b26cee816",
   "metadata": {},
   "outputs": [],
   "source": [
    "strArr_i = [\"12121212121212121\", \"reviver\", \"451545154\", \"dam madam mad\", \"nurses run\", \" RED rum, sir, is murder \", \" taco cat \", \"my gym\", \"no lemon, no melon\"]"
   ]
  },
  {
   "cell_type": "code",
   "execution_count": 15,
   "id": "7fef1a5e-823d-4abb-9e5c-7895b5ef3056",
   "metadata": {},
   "outputs": [
    {
     "name": "stdout",
     "output_type": "stream",
     "text": [
      "['12121212121212121', 'reviver', '451545154', 'dammadammad', 'nursesrun', 'redrum,sir,ismurder', 'tacocat', 'mygym', 'nolemon,nomelon']\n"
     ]
    }
   ],
   "source": [
    "for i in strArr_i:\n",
    "    strArr_i[strArr_i.index(i)] = i.replace(\" \", \"\").lower()\n",
    "print(strArr_i)"
   ]
  },
  {
   "cell_type": "code",
   "execution_count": 16,
   "id": "49c97851-23c6-4aa3-9100-adf466d5cbc1",
   "metadata": {},
   "outputs": [],
   "source": [
    "def PalLevelGen(arr):\n",
    "  length = len(arr)\n",
    "  outArr = [0] * length\n",
    "  for i in arr:\n",
    "    strlength = len(i)\n",
    "    str_mid = (strlength) // 2\n",
    "    \n",
    "    if not (strlength % 2):\n",
    "        revIndx = str_mid - 1\n",
    "    else:\n",
    "        revIndx = str_mid\n",
    "    \n",
    "    str_a = i[:str_mid + 1:]\n",
    "    str_b = i[:revIndx - 1:-1]\n",
    "    print(\"String: %s, Length: %s, mid-index: %s\" % (i, len(str_a), str_mid))\n",
    "    print(str_a, str_b)\n",
    "    \n",
    "    while len(str_b) > 0:\n",
    "        if (str_a == str_b): \n",
    "            outArr[arr.index(i)] += 1\n",
    "        else:\n",
    "            break\n",
    "        \n",
    "        temp = str_b\n",
    "        templength = len(temp)\n",
    "        str_mid_t = (templength) // 2\n",
    "        \n",
    "        if not (templength % 2):\n",
    "            revIndx_t = str_mid_t - 1\n",
    "        else:\n",
    "            revIndx_t = str_mid_t\n",
    "        \n",
    "        print(\"String: %s, Length: %s, mid-index: %s\" % (temp, len(temp), str_mid_t))\n",
    "        str_a = temp[:str_mid_t + 1:]\n",
    "        str_b = temp[:revIndx_t - 1:-1]\n",
    "        print(str_a, str_b)\n",
    "  return outArr"
   ]
  },
  {
   "cell_type": "code",
   "execution_count": 17,
   "id": "d114ada7-7607-49e3-8c3a-311f9c15d6fc",
   "metadata": {},
   "outputs": [
    {
     "name": "stdout",
     "output_type": "stream",
     "text": [
      "String: 12121212121212121, Length: 9, mid-index: 8\n",
      "121212121 121212121\n",
      "String: 121212121, Length: 9, mid-index: 4\n",
      "12121 12121\n",
      "String: 12121, Length: 5, mid-index: 2\n",
      "121 121\n",
      "String: 121, Length: 3, mid-index: 1\n",
      "12 12\n",
      "String: 12, Length: 2, mid-index: 1\n",
      "12 \n",
      "String: reviver, Length: 4, mid-index: 3\n",
      "revi revi\n",
      "String: revi, Length: 4, mid-index: 2\n",
      "rev ive\n",
      "String: 451545154, Length: 5, mid-index: 4\n",
      "45154 45154\n",
      "String: 45154, Length: 5, mid-index: 2\n",
      "451 451\n",
      "String: 451, Length: 3, mid-index: 1\n",
      "45 15\n",
      "String: dammadammad, Length: 6, mid-index: 5\n",
      "dammad dammad\n",
      "String: dammad, Length: 6, mid-index: 3\n",
      "damm damm\n",
      "String: damm, Length: 4, mid-index: 2\n",
      "dam mma\n",
      "String: nursesrun, Length: 5, mid-index: 4\n",
      "nurse nurse\n",
      "String: nurse, Length: 5, mid-index: 2\n",
      "nur esr\n",
      "String: redrum,sir,ismurder, Length: 10, mid-index: 9\n",
      "redrum,sir redrumsi,r\n",
      "String: tacocat, Length: 4, mid-index: 3\n",
      "taco taco\n",
      "String: taco, Length: 4, mid-index: 2\n",
      "tac oca\n",
      "String: mygym, Length: 3, mid-index: 2\n",
      "myg myg\n",
      "String: myg, Length: 3, mid-index: 1\n",
      "my gy\n",
      "String: nolemon,nomelon, Length: 8, mid-index: 7\n",
      "nolemon, nolemon,\n",
      "String: nolemon,, Length: 8, mid-index: 4\n",
      "nolem ,nome\n",
      "[4, 1, 2, 2, 1, 0, 1, 1, 1]\n"
     ]
    }
   ],
   "source": [
    "Test = PalLevelGen(strArr_i)\n",
    "print(Test)"
   ]
  }
 ],
 "metadata": {
  "kernelspec": {
   "display_name": "Python 3.10.6 64-bit",
   "language": "python",
   "name": "python3"
  },
  "language_info": {
   "codemirror_mode": {
    "name": "ipython",
    "version": 3
   },
   "file_extension": ".py",
   "mimetype": "text/x-python",
   "name": "python",
   "nbconvert_exporter": "python",
   "pygments_lexer": "ipython3",
   "version": "3.10.6"
  },
  "vscode": {
   "interpreter": {
    "hash": "1a6f82ba1b6aeaef8e8c0a00ddca96c81079a464df796276caea7baa85ea39b9"
   }
  }
 },
 "nbformat": 4,
 "nbformat_minor": 5
}
